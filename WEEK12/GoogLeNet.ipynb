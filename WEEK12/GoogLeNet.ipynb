{
  "nbformat": 4,
  "nbformat_minor": 0,
  "metadata": {
    "colab": {
      "name": "GoogLeNet",
      "provenance": [],
      "collapsed_sections": [],
      "authorship_tag": "ABX9TyPIeFPRaM5ter63qFyRNrtG"
    },
    "kernelspec": {
      "name": "python3",
      "display_name": "Python 3"
    },
    "language_info": {
      "name": "python"
    }
  },
  "cells": [
    {
      "cell_type": "markdown",
      "source": [
        "NAMA: KOMANG JAYA BHASKARA MAHATYA\n",
        "NIM : 1103181031\n",
        "WEEK 12 - GoogLeNet"
      ],
      "metadata": {
        "id": "sVafEpt_5csa"
      }
    },
    {
      "cell_type": "code",
      "execution_count": null,
      "metadata": {
        "colab": {
          "base_uri": "https://localhost:8080/"
        },
        "id": "nPFlIjGJiYyd",
        "outputId": "455ee36c-f8dc-4bc6-b38b-89552a2eed4a"
      },
      "outputs": [
        {
          "output_type": "stream",
          "name": "stdout",
          "text": [
            "Looking in indexes: https://pypi.org/simple, https://us-python.pkg.dev/colab-wheels/public/simple/\n",
            "Collecting d2l==0.14.2\n",
            "  Downloading d2l-0.14.2-py3-none-any.whl (53 kB)\n",
            "\u001b[K     |████████████████████████████████| 53 kB 967 kB/s \n",
            "\u001b[?25hRequirement already satisfied: matplotlib in /usr/local/lib/python3.7/dist-packages (from d2l==0.14.2) (3.2.2)\n",
            "Requirement already satisfied: numpy in /usr/local/lib/python3.7/dist-packages (from d2l==0.14.2) (1.21.6)\n",
            "Requirement already satisfied: pandas in /usr/local/lib/python3.7/dist-packages (from d2l==0.14.2) (1.3.5)\n",
            "Requirement already satisfied: jupyter in /usr/local/lib/python3.7/dist-packages (from d2l==0.14.2) (1.0.0)\n",
            "Requirement already satisfied: jupyter-console in /usr/local/lib/python3.7/dist-packages (from jupyter->d2l==0.14.2) (5.2.0)\n",
            "Requirement already satisfied: nbconvert in /usr/local/lib/python3.7/dist-packages (from jupyter->d2l==0.14.2) (5.6.1)\n",
            "Requirement already satisfied: ipykernel in /usr/local/lib/python3.7/dist-packages (from jupyter->d2l==0.14.2) (4.10.1)\n",
            "Requirement already satisfied: ipywidgets in /usr/local/lib/python3.7/dist-packages (from jupyter->d2l==0.14.2) (7.7.0)\n",
            "Requirement already satisfied: qtconsole in /usr/local/lib/python3.7/dist-packages (from jupyter->d2l==0.14.2) (5.3.1)\n",
            "Requirement already satisfied: notebook in /usr/local/lib/python3.7/dist-packages (from jupyter->d2l==0.14.2) (5.3.1)\n",
            "Requirement already satisfied: tornado>=4.0 in /usr/local/lib/python3.7/dist-packages (from ipykernel->jupyter->d2l==0.14.2) (5.1.1)\n",
            "Requirement already satisfied: ipython>=4.0.0 in /usr/local/lib/python3.7/dist-packages (from ipykernel->jupyter->d2l==0.14.2) (5.5.0)\n",
            "Requirement already satisfied: jupyter-client in /usr/local/lib/python3.7/dist-packages (from ipykernel->jupyter->d2l==0.14.2) (5.3.5)\n",
            "Requirement already satisfied: traitlets>=4.1.0 in /usr/local/lib/python3.7/dist-packages (from ipykernel->jupyter->d2l==0.14.2) (5.1.1)\n",
            "Requirement already satisfied: decorator in /usr/local/lib/python3.7/dist-packages (from ipython>=4.0.0->ipykernel->jupyter->d2l==0.14.2) (4.4.2)\n",
            "Requirement already satisfied: pygments in /usr/local/lib/python3.7/dist-packages (from ipython>=4.0.0->ipykernel->jupyter->d2l==0.14.2) (2.6.1)\n",
            "Requirement already satisfied: pexpect in /usr/local/lib/python3.7/dist-packages (from ipython>=4.0.0->ipykernel->jupyter->d2l==0.14.2) (4.8.0)\n",
            "Requirement already satisfied: setuptools>=18.5 in /usr/local/lib/python3.7/dist-packages (from ipython>=4.0.0->ipykernel->jupyter->d2l==0.14.2) (57.4.0)\n",
            "Requirement already satisfied: pickleshare in /usr/local/lib/python3.7/dist-packages (from ipython>=4.0.0->ipykernel->jupyter->d2l==0.14.2) (0.7.5)\n",
            "Requirement already satisfied: prompt-toolkit<2.0.0,>=1.0.4 in /usr/local/lib/python3.7/dist-packages (from ipython>=4.0.0->ipykernel->jupyter->d2l==0.14.2) (1.0.18)\n",
            "Requirement already satisfied: simplegeneric>0.8 in /usr/local/lib/python3.7/dist-packages (from ipython>=4.0.0->ipykernel->jupyter->d2l==0.14.2) (0.8.1)\n",
            "Requirement already satisfied: six>=1.9.0 in /usr/local/lib/python3.7/dist-packages (from prompt-toolkit<2.0.0,>=1.0.4->ipython>=4.0.0->ipykernel->jupyter->d2l==0.14.2) (1.15.0)\n",
            "Requirement already satisfied: wcwidth in /usr/local/lib/python3.7/dist-packages (from prompt-toolkit<2.0.0,>=1.0.4->ipython>=4.0.0->ipykernel->jupyter->d2l==0.14.2) (0.2.5)\n",
            "Requirement already satisfied: nbformat>=4.2.0 in /usr/local/lib/python3.7/dist-packages (from ipywidgets->jupyter->d2l==0.14.2) (5.4.0)\n",
            "Requirement already satisfied: widgetsnbextension~=3.6.0 in /usr/local/lib/python3.7/dist-packages (from ipywidgets->jupyter->d2l==0.14.2) (3.6.0)\n",
            "Requirement already satisfied: ipython-genutils~=0.2.0 in /usr/local/lib/python3.7/dist-packages (from ipywidgets->jupyter->d2l==0.14.2) (0.2.0)\n",
            "Requirement already satisfied: jupyterlab-widgets>=1.0.0 in /usr/local/lib/python3.7/dist-packages (from ipywidgets->jupyter->d2l==0.14.2) (1.1.0)\n",
            "Requirement already satisfied: jsonschema>=2.6 in /usr/local/lib/python3.7/dist-packages (from nbformat>=4.2.0->ipywidgets->jupyter->d2l==0.14.2) (4.3.3)\n",
            "Requirement already satisfied: fastjsonschema in /usr/local/lib/python3.7/dist-packages (from nbformat>=4.2.0->ipywidgets->jupyter->d2l==0.14.2) (2.15.3)\n",
            "Requirement already satisfied: jupyter-core in /usr/local/lib/python3.7/dist-packages (from nbformat>=4.2.0->ipywidgets->jupyter->d2l==0.14.2) (4.10.0)\n",
            "Requirement already satisfied: typing-extensions in /usr/local/lib/python3.7/dist-packages (from jsonschema>=2.6->nbformat>=4.2.0->ipywidgets->jupyter->d2l==0.14.2) (4.1.1)\n",
            "Requirement already satisfied: pyrsistent!=0.17.0,!=0.17.1,!=0.17.2,>=0.14.0 in /usr/local/lib/python3.7/dist-packages (from jsonschema>=2.6->nbformat>=4.2.0->ipywidgets->jupyter->d2l==0.14.2) (0.18.1)\n",
            "Requirement already satisfied: importlib-resources>=1.4.0 in /usr/local/lib/python3.7/dist-packages (from jsonschema>=2.6->nbformat>=4.2.0->ipywidgets->jupyter->d2l==0.14.2) (5.7.1)\n",
            "Requirement already satisfied: attrs>=17.4.0 in /usr/local/lib/python3.7/dist-packages (from jsonschema>=2.6->nbformat>=4.2.0->ipywidgets->jupyter->d2l==0.14.2) (21.4.0)\n",
            "Requirement already satisfied: importlib-metadata in /usr/local/lib/python3.7/dist-packages (from jsonschema>=2.6->nbformat>=4.2.0->ipywidgets->jupyter->d2l==0.14.2) (4.11.4)\n",
            "Requirement already satisfied: zipp>=3.1.0 in /usr/local/lib/python3.7/dist-packages (from importlib-resources>=1.4.0->jsonschema>=2.6->nbformat>=4.2.0->ipywidgets->jupyter->d2l==0.14.2) (3.8.0)\n",
            "Requirement already satisfied: terminado>=0.8.1 in /usr/local/lib/python3.7/dist-packages (from notebook->jupyter->d2l==0.14.2) (0.13.3)\n",
            "Requirement already satisfied: Send2Trash in /usr/local/lib/python3.7/dist-packages (from notebook->jupyter->d2l==0.14.2) (1.8.0)\n",
            "Requirement already satisfied: jinja2 in /usr/local/lib/python3.7/dist-packages (from notebook->jupyter->d2l==0.14.2) (2.11.3)\n",
            "Requirement already satisfied: pyzmq>=13 in /usr/local/lib/python3.7/dist-packages (from jupyter-client->ipykernel->jupyter->d2l==0.14.2) (23.1.0)\n",
            "Requirement already satisfied: python-dateutil>=2.1 in /usr/local/lib/python3.7/dist-packages (from jupyter-client->ipykernel->jupyter->d2l==0.14.2) (2.8.2)\n",
            "Requirement already satisfied: ptyprocess in /usr/local/lib/python3.7/dist-packages (from terminado>=0.8.1->notebook->jupyter->d2l==0.14.2) (0.7.0)\n",
            "Requirement already satisfied: MarkupSafe>=0.23 in /usr/local/lib/python3.7/dist-packages (from jinja2->notebook->jupyter->d2l==0.14.2) (2.0.1)\n",
            "Requirement already satisfied: pyparsing!=2.0.4,!=2.1.2,!=2.1.6,>=2.0.1 in /usr/local/lib/python3.7/dist-packages (from matplotlib->d2l==0.14.2) (3.0.9)\n",
            "Requirement already satisfied: cycler>=0.10 in /usr/local/lib/python3.7/dist-packages (from matplotlib->d2l==0.14.2) (0.11.0)\n",
            "Requirement already satisfied: kiwisolver>=1.0.1 in /usr/local/lib/python3.7/dist-packages (from matplotlib->d2l==0.14.2) (1.4.3)\n",
            "Requirement already satisfied: bleach in /usr/local/lib/python3.7/dist-packages (from nbconvert->jupyter->d2l==0.14.2) (5.0.0)\n",
            "Requirement already satisfied: testpath in /usr/local/lib/python3.7/dist-packages (from nbconvert->jupyter->d2l==0.14.2) (0.6.0)\n",
            "Requirement already satisfied: pandocfilters>=1.4.1 in /usr/local/lib/python3.7/dist-packages (from nbconvert->jupyter->d2l==0.14.2) (1.5.0)\n",
            "Requirement already satisfied: mistune<2,>=0.8.1 in /usr/local/lib/python3.7/dist-packages (from nbconvert->jupyter->d2l==0.14.2) (0.8.4)\n",
            "Requirement already satisfied: defusedxml in /usr/local/lib/python3.7/dist-packages (from nbconvert->jupyter->d2l==0.14.2) (0.7.1)\n",
            "Requirement already satisfied: entrypoints>=0.2.2 in /usr/local/lib/python3.7/dist-packages (from nbconvert->jupyter->d2l==0.14.2) (0.4)\n",
            "Requirement already satisfied: webencodings in /usr/local/lib/python3.7/dist-packages (from bleach->nbconvert->jupyter->d2l==0.14.2) (0.5.1)\n",
            "Requirement already satisfied: pytz>=2017.3 in /usr/local/lib/python3.7/dist-packages (from pandas->d2l==0.14.2) (2022.1)\n",
            "Requirement already satisfied: qtpy>=2.0.1 in /usr/local/lib/python3.7/dist-packages (from qtconsole->jupyter->d2l==0.14.2) (2.1.0)\n",
            "Requirement already satisfied: packaging in /usr/local/lib/python3.7/dist-packages (from qtpy>=2.0.1->qtconsole->jupyter->d2l==0.14.2) (21.3)\n",
            "Installing collected packages: d2l\n",
            "Successfully installed d2l-0.14.2\n"
          ]
        }
      ],
      "source": [
        "!pip install d2l==0.14.2"
      ]
    },
    {
      "cell_type": "code",
      "source": [
        "import tensorflow as tf\n",
        "from d2l import tensorflow as d2l"
      ],
      "metadata": {
        "id": "SWh9DiG0imfs"
      },
      "execution_count": null,
      "outputs": []
    },
    {
      "cell_type": "code",
      "source": [
        "# Inception Block\n",
        "\n",
        "class Inception(tf.keras.Model):\n",
        "    # `c1`--`c4` are the number of output channels for each path\n",
        "    def __init__(self, c1, c2, c3, c4):\n",
        "        super().__init__()\n",
        "        # Path 1 is a single 1 x 1 convolutional layer\n",
        "        self.p1_1 = tf.keras.layers.Conv2D(c1, 1, activation='relu')\n",
        "        # Path 2 is a 1 x 1 convolutional layer followed by a 3 x 3\n",
        "        # convolutional layer\n",
        "        self.p2_1 = tf.keras.layers.Conv2D(c2[0], 1, activation='relu')\n",
        "        self.p2_2 = tf.keras.layers.Conv2D(c2[1], 3, padding='same',\n",
        "                                           activation='relu')\n",
        "        # Path 3 is a 1 x 1 convolutional layer followed by a 5 x 5\n",
        "        # convolutional layer\n",
        "        self.p3_1 = tf.keras.layers.Conv2D(c3[0], 1, activation='relu')\n",
        "        self.p3_2 = tf.keras.layers.Conv2D(c3[1], 5, padding='same',\n",
        "                                           activation='relu')\n",
        "        # Path 4 is a 3 x 3 maximum pooling layer followed by a 1 x 1\n",
        "        # convolutional layer\n",
        "        self.p4_1 = tf.keras.layers.MaxPool2D(3, 1, padding='same')\n",
        "        self.p4_2 = tf.keras.layers.Conv2D(c4, 1, activation='relu')\n",
        "\n",
        "\n",
        "    def call(self, x):\n",
        "        p1 = self.p1_1(x)\n",
        "        p2 = self.p2_2(self.p2_1(x))\n",
        "        p3 = self.p3_2(self.p3_1(x))\n",
        "        p4 = self.p4_2(self.p4_1(x))\n",
        "        # Concatenate the outputs on the channel dimension\n",
        "        return tf.keras.layers.Concatenate()([p1, p2, p3, p4])"
      ],
      "metadata": {
        "id": "nhjpdsVViovJ"
      },
      "execution_count": null,
      "outputs": []
    },
    {
      "cell_type": "code",
      "source": [
        "# GoogLeNet Model\n",
        "\n",
        "def b1():\n",
        "    return tf.keras.models.Sequential([\n",
        "        tf.keras.layers.Conv2D(64, 7, strides=2, padding='same',\n",
        "                               activation='relu'),\n",
        "        tf.keras.layers.MaxPool2D(pool_size=3, strides=2, padding='same')])\n",
        "\n",
        "def b2():\n",
        "    return tf.keras.Sequential([\n",
        "        tf.keras.layers.Conv2D(64, 1, activation='relu'),\n",
        "        tf.keras.layers.Conv2D(192, 3, padding='same', activation='relu'),\n",
        "        tf.keras.layers.MaxPool2D(pool_size=3, strides=2, padding='same')])\n",
        "\n",
        "def b3():\n",
        "    return tf.keras.models.Sequential([\n",
        "        Inception(64, (96, 128), (16, 32), 32),\n",
        "        Inception(128, (128, 192), (32, 96), 64),\n",
        "        tf.keras.layers.MaxPool2D(pool_size=3, strides=2, padding='same')])\n",
        "    \n",
        "def b4():\n",
        "    return tf.keras.Sequential([\n",
        "        Inception(192, (96, 208), (16, 48), 64),\n",
        "        Inception(160, (112, 224), (24, 64), 64),\n",
        "        Inception(128, (128, 256), (24, 64), 64),\n",
        "        Inception(112, (144, 288), (32, 64), 64),\n",
        "        Inception(256, (160, 320), (32, 128), 128),\n",
        "        tf.keras.layers.MaxPool2D(pool_size=3, strides=2, padding='same')])\n",
        "        \n",
        "def b5():\n",
        "    return tf.keras.Sequential([\n",
        "        Inception(256, (160, 320), (32, 128), 128),\n",
        "        Inception(384, (192, 384), (48, 128), 128),\n",
        "        tf.keras.layers.GlobalAvgPool2D(),\n",
        "        tf.keras.layers.Flatten()\n",
        "    ])\n",
        "# Recall that this has to be a function that will be passed to\n",
        "# `d2l.train_ch6()` so that model building/compiling need to be within\n",
        "# `strategy.scope()` in order to utilize the CPU/GPU devices that we have\n",
        "def net():\n",
        "    return tf.keras.Sequential([b1(), b2(), b3(), b4(), b5(),\n",
        "                                tf.keras.layers.Dense(10)])\n",
        "\n"
      ],
      "metadata": {
        "id": "6P0n98t5itHt"
      },
      "execution_count": null,
      "outputs": []
    },
    {
      "cell_type": "code",
      "source": [
        "X = tf.random.uniform(shape=(1, 96, 96, 1))\n",
        "for layer in net().layers:\n",
        "    X = layer(X)\n",
        "    print(layer.__class__.__name__, 'output shape:\\t', X.shape)"
      ],
      "metadata": {
        "colab": {
          "base_uri": "https://localhost:8080/"
        },
        "id": "y3DCTGR5izaB",
        "outputId": "4101c208-c37c-431c-8a0d-98e3f16945e3"
      },
      "execution_count": null,
      "outputs": [
        {
          "output_type": "stream",
          "name": "stdout",
          "text": [
            "Sequential output shape:\t (1, 24, 24, 64)\n",
            "Sequential output shape:\t (1, 12, 12, 192)\n",
            "Sequential output shape:\t (1, 6, 6, 480)\n",
            "Sequential output shape:\t (1, 3, 3, 832)\n",
            "Sequential output shape:\t (1, 1024)\n",
            "Dense output shape:\t (1, 10)\n"
          ]
        }
      ]
    },
    {
      "cell_type": "code",
      "source": [
        "# Training\n",
        "\n",
        "lr, num_epochs, batch_size = 0.1, 10, 128\n",
        "train_iter, test_iter = d2l.load_data_fashion_mnist(batch_size, resize=96)\n",
        "d2l.train_ch6(net, train_iter, test_iter, num_epochs, lr, d2l.try_gpu())"
      ],
      "metadata": {
        "colab": {
          "base_uri": "https://localhost:8080/"
        },
        "id": "wisevBF-i9hD",
        "outputId": "d2779e83-a59d-46b1-884e-eb93ac35c3d5"
      },
      "execution_count": null,
      "outputs": [
        {
          "output_type": "stream",
          "name": "stdout",
          "text": [
            "Downloading data from https://storage.googleapis.com/tensorflow/tf-keras-datasets/train-labels-idx1-ubyte.gz\n",
            "32768/29515 [=================================] - 0s 0us/step\n",
            "40960/29515 [=========================================] - 0s 0us/step\n",
            "Downloading data from https://storage.googleapis.com/tensorflow/tf-keras-datasets/train-images-idx3-ubyte.gz\n",
            "26427392/26421880 [==============================] - 0s 0us/step\n",
            "26435584/26421880 [==============================] - 0s 0us/step\n",
            "Downloading data from https://storage.googleapis.com/tensorflow/tf-keras-datasets/t10k-labels-idx1-ubyte.gz\n",
            "16384/5148 [===============================================================================================] - 0s 0us/step\n",
            "Downloading data from https://storage.googleapis.com/tensorflow/tf-keras-datasets/t10k-images-idx3-ubyte.gz\n",
            "4423680/4422102 [==============================] - 0s 0us/step\n",
            "4431872/4422102 [==============================] - 0s 0us/step\n"
          ]
        }
      ]
    },
    {
      "cell_type": "code",
      "source": [
        ""
      ],
      "metadata": {
        "id": "BBRXUZ8Qi-87"
      },
      "execution_count": null,
      "outputs": []
    }
  ]
}